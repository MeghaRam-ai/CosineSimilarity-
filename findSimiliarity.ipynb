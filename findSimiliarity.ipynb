{
 "cells": [
  {
   "cell_type": "code",
   "execution_count": null,
   "id": "96d9d258",
   "metadata": {},
   "outputs": [],
   "source": [
    "#ref: https://www.programiz.com/python-programming/examples/remove-punctuation"
   ]
  },
  {
   "cell_type": "code",
   "execution_count": 2,
   "id": "db5e2e95",
   "metadata": {},
   "outputs": [],
   "source": [
    "import pandas as pd\n",
    "import numpy as np"
   ]
  },
  {
   "cell_type": "code",
   "execution_count": 44,
   "id": "57b84486",
   "metadata": {},
   "outputs": [],
   "source": [
    "def formatInput(s):\n",
    "    spec_char = '''!()-[]{};:'\"\\,<>./?@#$%^&*_~'''\n",
    "    formated_string=\"\"\n",
    "    for char in s:\n",
    "        if char not in spec_char:\n",
    "            formated_string=formated_string + char\n",
    "    formated_string=formated_string.lower()\n",
    "    return formated_string\n",
    "\n",
    "def find_similiarity(s1,s2):\n",
    "    s1=formatInput(s1)\n",
    "    s2=formatInput(s2)\n",
    "    \n",
    "    s1_words=s1.split(\" \")\n",
    "    s2_words=s2.split(\" \")\n",
    "    \n",
    "    words= set(s1.split(\" \")+(s2.split(\" \")))\n",
    "\n",
    "    v1=[]\n",
    "    v2=[]\n",
    "    \n",
    "    for w in words:\n",
    "        if w in s1_words:\n",
    "            v1.append(1)\n",
    "        else:\n",
    "            v1.append(0)\n",
    "        \n",
    "        \n",
    "        if w in s2_words:\n",
    "            v2.append(1)\n",
    "        else:\n",
    "            v2.append(0)\n",
    "            \n",
    "    dist= np.dot(v1,v2)/(np.linalg.norm(v1)*np.linalg.norm(v2))\n",
    "    print(\"{:.2f} % match\".format(dist*100))\n",
    "    "
   ]
  },
  {
   "cell_type": "code",
   "execution_count": 58,
   "id": "081150f7",
   "metadata": {},
   "outputs": [
    {
     "name": "stdout",
     "output_type": "stream",
     "text": [
      "Please enter two sentences to compare..\n",
      "\n",
      "1 2 3 4\n",
      "2 3 49 99 .....\n",
      "\n",
      "\n",
      "44.72 % match\n"
     ]
    }
   ],
   "source": [
    "print(\"Please enter two sentences to compare..\\n\")\n",
    "s1=input()\n",
    "s2=input()\n",
    "print(\"\\n\")\n",
    "find_similiarity(s1,s2)"
   ]
  },
  {
   "cell_type": "code",
   "execution_count": 45,
   "id": "0f665550",
   "metadata": {},
   "outputs": [
    {
     "name": "stdout",
     "output_type": "stream",
     "text": [
      "0.00 % match\n"
     ]
    }
   ],
   "source": [
    "s1=\"I love music\"\n",
    "s2=\"we can dance\"\n",
    "\n",
    "find_similiarity(s1,s2)"
   ]
  },
  {
   "cell_type": "code",
   "execution_count": 46,
   "id": "bef9ea16",
   "metadata": {},
   "outputs": [
    {
     "name": "stdout",
     "output_type": "stream",
     "text": [
      "67.08 % match\n"
     ]
    }
   ],
   "source": [
    "s1=\"I love music so much\"\n",
    "s2=\"I love music \"\n",
    "\n",
    "find_similiarity(s1,s2)"
   ]
  },
  {
   "cell_type": "code",
   "execution_count": 47,
   "id": "0b645f3e",
   "metadata": {},
   "outputs": [
    {
     "name": "stdout",
     "output_type": "stream",
     "text": [
      "83.33 % match\n"
     ]
    }
   ],
   "source": [
    "s1=\"I love to dance with you\"\n",
    "s2=\"I love to sing with you\"\n",
    "\n",
    "find_similiarity(s1,s2)"
   ]
  },
  {
   "cell_type": "code",
   "execution_count": 48,
   "id": "95873575",
   "metadata": {},
   "outputs": [
    {
     "name": "stdout",
     "output_type": "stream",
     "text": [
      "83.33 % match\n"
     ]
    }
   ],
   "source": [
    "s1=\"I eat kebab when i am hungry\"\n",
    "s2=\"I hate kebab when i am hungry\"\n",
    "\n",
    "find_similiarity(s1,s2)"
   ]
  },
  {
   "cell_type": "code",
   "execution_count": 49,
   "id": "268889aa",
   "metadata": {},
   "outputs": [
    {
     "name": "stdout",
     "output_type": "stream",
     "text": [
      "100.00 % match\n"
     ]
    }
   ],
   "source": [
    "s1=\"I eat kebab....\"\n",
    "s2=\"I eat kebab\"\n",
    "\n",
    "find_similiarity(s1,s2)"
   ]
  },
  {
   "cell_type": "code",
   "execution_count": null,
   "id": "328f5f05",
   "metadata": {},
   "outputs": [],
   "source": []
  }
 ],
 "metadata": {
  "kernelspec": {
   "display_name": "Python 3",
   "language": "python",
   "name": "python3"
  },
  "language_info": {
   "codemirror_mode": {
    "name": "ipython",
    "version": 3
   },
   "file_extension": ".py",
   "mimetype": "text/x-python",
   "name": "python",
   "nbconvert_exporter": "python",
   "pygments_lexer": "ipython3",
   "version": "3.8.8"
  }
 },
 "nbformat": 4,
 "nbformat_minor": 5
}
